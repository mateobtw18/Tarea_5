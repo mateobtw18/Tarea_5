{
 "cells": [
  {
   "cell_type": "raw",
   "id": "39efe3e2-8a3a-4bb4-9083-ad662036c8b5",
   "metadata": {},
   "source": [
    "---\n",
    "title: \"Método de Newton y de la Secante\"\n",
    "author: \"Mateo Cumbal\"\n",
    "date: \"Noviembre 16, 2024\"\n",
    "lang: es\n",
    "format:\n",
    "  pdf:\n",
    "        number-sections: true\n",
    "        paginate: true\n",
    "        toc: true\n",
    "        links-color: blue\n",
    "        toc-title: \"Tabla de Contenidos\"  \n",
    "        tables: true\n",
    "        table-width: full\n",
    "        images-centered: true\n",
    "        highlight-style: tango\n",
    "execute:\n",
    "  echo: true\n",
    "  error: false\n",
    "  warning: false\n",
    "code-fold: true\n",
    "jupyter: python3\n",
    "---"
   ]
  },
  {
   "cell_type": "markdown",
   "id": "387fdd6f-ce38-460e-89ad-3b58d3a5f383",
   "metadata": {},
   "source": [
    "# Ejercicio 1"
   ]
  },
  {
   "cell_type": "markdown",
   "id": "c25e193e-2736-4c41-9813-90626b479c3b",
   "metadata": {},
   "source": [
    "**Sea $f(x) = -x^3 - \\cos(x)$ y $p_0 = -1$. Use el método de Newton y de la Secante para encontrar $p_2$.**\n"
   ]
  },
  {
   "cell_type": "code",
   "execution_count": 3,
   "id": "29e4ef2e-8db9-40b2-9757-0ef133b9188b",
   "metadata": {},
   "outputs": [],
   "source": [
    "from scipy.optimize import newton\n",
    "import numpy as np\n",
    "\n",
    "def f(x):\n",
    "    return - x ** 3 - np.cos(x)\n",
    "\n",
    "def fder(x):\n",
    "    return -3 * x**2 + np.sin(x)\n",
    "\n",
    "p0 = -1"
   ]
  },
  {
   "cell_type": "code",
   "execution_count": 4,
   "id": "1b5d205c-daea-421a-a407-fff349909950",
   "metadata": {},
   "outputs": [
    {
     "name": "stdout",
     "output_type": "stream",
     "text": [
      "La raiz aproximada es: -0.8654740331016144 | Método de Newton\n"
     ]
    }
   ],
   "source": [
    "n1 = newton(f, p0, fprime=fder)\n",
    "\n",
    "print(f'La raiz aproximada es: {n1} | Método de Newton')"
   ]
  },
  {
   "cell_type": "code",
   "execution_count": 5,
   "id": "b965e401-5709-458a-a0db-8fade1cff263",
   "metadata": {},
   "outputs": [
    {
     "name": "stdout",
     "output_type": "stream",
     "text": [
      "La raiz aproximada es: -0.8654740331016144 | Método de la Secante\n"
     ]
    }
   ],
   "source": [
    "s1 = newton(f, p0)\n",
    "\n",
    "print(f'La raiz aproximada es: {s1} | Método de la Secante')"
   ]
  },
  {
   "cell_type": "markdown",
   "id": "4021bc2f-25e7-47dd-88de-fbd9ffeecc8d",
   "metadata": {},
   "source": [
    "**¿Se podría usar $p_0 = 0$?**"
   ]
  },
  {
   "cell_type": "code",
   "execution_count": 7,
   "id": "32208973-cfe8-4120-89e1-84a3f528a721",
   "metadata": {},
   "outputs": [],
   "source": [
    "p0 = 0"
   ]
  },
  {
   "cell_type": "markdown",
   "id": "ccac87f1-15cf-453d-a19c-62a044f4fefc",
   "metadata": {},
   "source": [
    "Primero probemos con el método de Newton:"
   ]
  },
  {
   "cell_type": "code",
   "execution_count": 9,
   "id": "66a8dcd4-770c-440e-a4b0-eb3d114e3fa0",
   "metadata": {},
   "outputs": [
    {
     "name": "stdout",
     "output_type": "stream",
     "text": [
      "ERROR: Derivative was zero. Failed to converge after 1 iterations, value is 0.0.\n"
     ]
    }
   ],
   "source": [
    "try:\n",
    "    n2 = newton(f, p0, fprime=fder)\n",
    "except RuntimeError as e:\n",
    "    print('ERROR:', e)"
   ]
  },
  {
   "cell_type": "markdown",
   "id": "8be35a50-c7bb-46e9-9924-f36d83c69be1",
   "metadata": {},
   "source": [
    "> El código retorna un error porque la derivada evaluada en el punto inicial $p_0$ es cero, por lo que el método no puede continuar.\n",
    ">\n",
    "> $p_1 = p_0 - \\frac{f(p_0)}{f'(p_0)}$\n",
    ">\n",
    "> $p_1 = 0 - \\frac{f(0)}{-3(0)^2 + \\sin(0)}$ -> Error: División por cero.\n",
    "\n",
    "A continuación se puede observar el gráfico de la función y de la recta tangente (derivada) evaluada en ese punto."
   ]
  },
  {
   "cell_type": "code",
   "execution_count": 11,
   "id": "7240b03d-c6c1-489a-b0bf-abbe1c3a3d47",
   "metadata": {},
   "outputs": [
    {
     "data": {
      "image/png": "[encoded data removed]",
      "text/plain": [
       "<Figure size 500x350 with 1 Axes>"
      ]
     },
     "metadata": {},
     "output_type": "display_data"
    }
   ],
   "source": [
    "import matplotlib.pyplot as plt\n",
    "\n",
    "x = np.linspace(-2, 2, 100)\n",
    "y = f(x)\n",
    "\n",
    "f0 = f(0)\n",
    "fder0 = fder(0)\n",
    "tangent_line = fder0 * (x - 0) + f0\n",
    "\n",
    "plt.figure(figsize=(5, 3.5))\n",
    "plt.plot(x, y, label='$f(x) = -x^3 - cos(x)$', color='lightgreen')\n",
    "plt.plot(x, tangent_line, label='Tangente en x=0', color='red', linestyle='--')\n",
    "plt.axhline(0, color='black', lw=0.5)\n",
    "plt.axvline(0, color='black', lw=0.5)  \n",
    "plt.scatter(0, f(0), color='lightgreen') \n",
    "plt.title('Gráfica de la Función')\n",
    "plt.xlabel('x')\n",
    "plt.ylabel('y')\n",
    "plt.legend()\n",
    "plt.grid()\n",
    "plt.show()"
   ]
  },
  {
   "cell_type": "markdown",
   "id": "87b72bfb-0410-461a-8d0d-5ab64da647fb",
   "metadata": {},
   "source": [
    "Probemos ahora con el método de la secante:"
   ]
  },
  {
   "cell_type": "code",
   "execution_count": 13,
   "id": "3080bd6d-6eef-4b95-925d-afa64fc1da43",
   "metadata": {},
   "outputs": [
    {
     "name": "stdout",
     "output_type": "stream",
     "text": [
      "La raiz aproximada es: -4.998000183473029e-09 | Método de la Secante\n"
     ]
    }
   ],
   "source": [
    "s2 = newton(f, p0) \n",
    "\n",
    "print(f'La raiz aproximada es: {s2} | Método de la Secante')"
   ]
  },
  {
   "cell_type": "markdown",
   "id": "87585b5e-9e24-4cd5-a3dd-c29827ff1531",
   "metadata": {},
   "source": [
    "El algoritmo retorna un resultado que es incorrecto. Cabe destacar que en este caso, el método calcula el segundo valor inicial, que podría ser un factor para que retorne la respuesta incorrecta.\n",
    "\n",
    "Probemos esta vez asignando los dos valores iniciales:"
   ]
  },
  {
   "cell_type": "code",
   "execution_count": 15,
   "id": "ca4e55c7-1b31-4f4b-88ab-ba9dfe070df9",
   "metadata": {},
   "outputs": [
    {
     "name": "stdout",
     "output_type": "stream",
     "text": [
      "ERROR: Failed to converge after 50 iterations, value is -0.0035371633005660988.\n"
     ]
    }
   ],
   "source": [
    "try:\n",
    "    s2_1 = newton(f, p0, x1=0.1)\n",
    "except RuntimeError as e:\n",
    "    print('ERROR:', e)"
   ]
  },
  {
   "cell_type": "markdown",
   "id": "00769778-3448-423d-9873-dde87161985d",
   "metadata": {},
   "source": [
    "> En cambio, aquí se produce un error de no convergencia."
   ]
  },
  {
   "cell_type": "code",
   "execution_count": 17,
   "id": "588dc2bf-870d-467f-a111-280d854b4394",
   "metadata": {},
   "outputs": [
    {
     "name": "stdout",
     "output_type": "stream",
     "text": [
      "La raiz aproximada es: -0.8654740331017148 | Método de la Secante\n"
     ]
    }
   ],
   "source": [
    "s2_2 = newton(f, p0, x1 = 2) \n",
    "\n",
    "print(f'La raiz aproximada es: {s2_2} | Método de la Secante')"
   ]
  },
  {
   "cell_type": "markdown",
   "id": "f03874f2-0d28-4be4-b972-821ce1ebdfd9",
   "metadata": {},
   "source": [
    "Para este par de valores iniciales, arroja una respuesta correcta."
   ]
  },
  {
   "cell_type": "markdown",
   "id": "cd3feaa7-fa08-45ac-83ae-abbceff01bbe",
   "metadata": {},
   "source": [
    "# Ejercicio 2"
   ]
  },
  {
   "cell_type": "markdown",
   "id": "d62bfa4d-5495-44bb-a61c-975511a54862",
   "metadata": {},
   "source": [
    "**Encuentre soluciones precisas dentro de $10^{-4}$ para los siguientes problemas:**"
   ]
  },
  {
   "cell_type": "markdown",
   "id": "5abe327a-0d58-4dc5-b284-eb33d9d062b4",
   "metadata": {},
   "source": [
    "Definimos la tolerancia para todos los literales."
   ]
  },
  {
   "cell_type": "code",
   "execution_count": 22,
   "id": "0d420008-0937-4dde-b02b-654e8e03929f",
   "metadata": {},
   "outputs": [],
   "source": [
    "TOL = 1e-04"
   ]
  },
  {
   "cell_type": "markdown",
   "id": "9234806b-cd99-4df8-83a5-2c38ba68dae9",
   "metadata": {},
   "source": [
    "**a. $x^3 - 2x^2 - 5 = 0$, en el intervalo $[1, 4]$**"
   ]
  },
  {
   "cell_type": "code",
   "execution_count": 24,
   "id": "316ba42c-ab46-462f-8f81-62a3f37e48cf",
   "metadata": {},
   "outputs": [],
   "source": [
    "def f(x):\n",
    "    return x ** 3 - 2 * x ** 2 - 5\n",
    "\n",
    "def fder(x):\n",
    "    return 3 * x ** 2 - 4 * x\n",
    "\n",
    "p0 = 2"
   ]
  },
  {
   "cell_type": "code",
   "execution_count": 25,
   "id": "450040a7-ce36-4d09-b57b-2e481e479b05",
   "metadata": {},
   "outputs": [
    {
     "name": "stdout",
     "output_type": "stream",
     "text": [
      "La raiz aproximada es: p5 = 2.69065 | Método de Newton\n"
     ]
    }
   ],
   "source": [
    "n2a, result = newton(f, p0, fprime=fder, tol=TOL, full_output=True)\n",
    "\n",
    "print(f'La raiz aproximada es: p{result.iterations} = {n2a:.5f} | Método de Newton')"
   ]
  },
  {
   "cell_type": "markdown",
   "id": "ddbba606-a5a3-41d5-9064-19addd1dd8a9",
   "metadata": {},
   "source": [
    "**b. $x^3 + 3x^2 - 1 = 0$, en el intervalo $[-3, -2]$**"
   ]
  },
  {
   "cell_type": "code",
   "execution_count": 27,
   "id": "8100c10c-3e1b-4b14-99ad-2356c9f65f95",
   "metadata": {},
   "outputs": [],
   "source": [
    "def f(x):\n",
    "    return x ** 3 + 3 * x ** 2 - 1\n",
    "\n",
    "def fder(x):\n",
    "    return 3 * x ** 2 + 6 * x\n",
    "\n",
    "p0 = -3"
   ]
  },
  {
   "cell_type": "code",
   "execution_count": 28,
   "id": "2bd97a84-a953-4cd7-9720-6b8091abe5bd",
   "metadata": {},
   "outputs": [
    {
     "name": "stdout",
     "output_type": "stream",
     "text": [
      "La raiz aproximada es: p3 = -2.87939 | Método de Newton\n"
     ]
    }
   ],
   "source": [
    "n2b, result = newton(f, p0, fprime=fder, tol=TOL, full_output=True)\n",
    "\n",
    "print(f'La raiz aproximada es: p{result.iterations} = {n2b:.5f} | Método de Newton')"
   ]
  },
  {
   "cell_type": "markdown",
   "id": "023e1cf3-fdc4-4ec3-9546-0e62673ec4b0",
   "metadata": {},
   "source": [
    "**c. $x - \\cos(x) = 0$, en el intervalo $[0, \\frac{\\pi}{2}]$**"
   ]
  },
  {
   "cell_type": "code",
   "execution_count": 30,
   "id": "403fee71-0b3d-4412-89ed-b106fc523334",
   "metadata": {},
   "outputs": [],
   "source": [
    "def f(x):\n",
    "    return x - np.cos(x)\n",
    "\n",
    "def fder(x):\n",
    "    return 1 + np.sin(x)\n",
    "\n",
    "p0 = 0"
   ]
  },
  {
   "cell_type": "code",
   "execution_count": 31,
   "id": "a5457429-aed9-4a76-a4fa-a1bc3fd95b96",
   "metadata": {},
   "outputs": [
    {
     "name": "stdout",
     "output_type": "stream",
     "text": [
      "La raiz aproximada es: p4 = 0.73909 | Método de Newton\n"
     ]
    }
   ],
   "source": [
    "n2c, result = newton(f, p0, fprime=fder, tol=TOL, full_output=True)\n",
    "\n",
    "print(f'La raiz aproximada es: p{result.iterations} = {n2c:.5f} | Método de Newton')"
   ]
  },
  {
   "cell_type": "markdown",
   "id": "bba25f55-490d-4909-b3c3-a99ec7fd63b2",
   "metadata": {},
   "source": [
    "**d. $x - 0.8 - 0.2 \\sin(x) = 0$, en el intervalo $[0, \\frac{\\pi}{2}]$**"
   ]
  },
  {
   "cell_type": "code",
   "execution_count": 33,
   "id": "54f31d82-67f7-463f-833f-ddf5340a7d36",
   "metadata": {},
   "outputs": [],
   "source": [
    "def f(x):\n",
    "    return x - 0.8 - 0.2 * np.sin(x)\n",
    "\n",
    "def fder(x):\n",
    "    return 1 - 0.2 * np.cos(x)\n",
    "\n",
    "p0 = 0"
   ]
  },
  {
   "cell_type": "code",
   "execution_count": 34,
   "id": "86ac5acf-b9f2-4392-8810-13b4284b7e14",
   "metadata": {},
   "outputs": [
    {
     "name": "stdout",
     "output_type": "stream",
     "text": [
      "La raiz aproximada es: p4 = 0.96433 | Método de Newton\n"
     ]
    }
   ],
   "source": [
    "n2d, result = newton(f, p0, fprime=fder, tol=TOL, full_output=True)\n",
    "\n",
    "print(f'La raiz aproximada es: p{result.iterations} = {n2d:.5f} | Método de Newton')"
   ]
  },
  {
   "cell_type": "markdown",
   "id": "9806c754-d336-4737-9650-b948790d3222",
   "metadata": {},
   "source": [
    "# Ejercicio 3"
   ]
  },
  {
   "cell_type": "markdown",
   "id": "00cb0e80-8c75-442f-832a-77bee4d9fbaa",
   "metadata": {},
   "source": [
    "**Encuentre las soluciones dentro de $10^{-5}$ para los siguientes problemas utilizando los métodos de Newton y de la Secante:**"
   ]
  },
  {
   "cell_type": "markdown",
   "id": "3eab7870-8e4e-4b3b-ab0e-a81588d15bbb",
   "metadata": {},
   "source": [
    "Inicialmente, definimos la toleracia."
   ]
  },
  {
   "cell_type": "code",
   "execution_count": 38,
   "id": "295f5e54-0a17-4e52-96d5-9def3c4da32e",
   "metadata": {},
   "outputs": [],
   "source": [
    "TOL = 1e-05"
   ]
  },
  {
   "cell_type": "markdown",
   "id": "b445d8de-2a16-4a82-9153-2cc586612add",
   "metadata": {},
   "source": [
    "**a. $3x - e^x = 0$ para $1 \\leq x \\leq 2$**"
   ]
  },
  {
   "cell_type": "code",
   "execution_count": 40,
   "id": "a7d3f2f7-c52a-4a65-8bae-0d4e17849e8a",
   "metadata": {},
   "outputs": [],
   "source": [
    "def f(x):\n",
    "    return 3 * x - np.exp(x)\n",
    "\n",
    "def fder(x):\n",
    "    return 3 - np.exp(x)\n",
    "\n",
    "p0 = 1.5"
   ]
  },
  {
   "cell_type": "code",
   "execution_count": 41,
   "id": "86331a14-b676-4b5f-a1ac-9ced3a498aa0",
   "metadata": {},
   "outputs": [
    {
     "name": "stdout",
     "output_type": "stream",
     "text": [
      "La raiz aproximada es: p3 = 1.51213455 | Método de Newton\n"
     ]
    }
   ],
   "source": [
    "n3a, result = newton(f, p0, fprime=fder, tol=TOL, full_output=True)\n",
    "\n",
    "print(f'La raiz aproximada es: p{result.iterations} = {n3a:.8f} | Método de Newton')"
   ]
  },
  {
   "cell_type": "code",
   "execution_count": 42,
   "id": "70d45d95-9165-48c7-9b28-48a258c00e98",
   "metadata": {},
   "outputs": [
    {
     "name": "stdout",
     "output_type": "stream",
     "text": [
      "La raiz aproximada es: p9 = 1.51213455 | Método de la Secante\n"
     ]
    }
   ],
   "source": [
    "p0 = 1\n",
    "p1 = 2\n",
    "\n",
    "s3a, result = newton(f, p0, x1=p1, tol=TOL, full_output=True)\n",
    "\n",
    "print(f'La raiz aproximada es: p{result.iterations} = {s3a:.8f} | Método de la Secante')"
   ]
  },
  {
   "cell_type": "markdown",
   "id": "61e2773b-bfcf-46cd-be4c-f38074b69a2e",
   "metadata": {},
   "source": [
    "**b. $2x + 3\\cos(x) - e^x = 0$ para $1 \\leq x \\leq 2$**"
   ]
  },
  {
   "cell_type": "code",
   "execution_count": 44,
   "id": "c504ca33-82e0-469c-93dd-f140e9cf1249",
   "metadata": {},
   "outputs": [],
   "source": [
    "def f(x):\n",
    "    return 2 * x + 3 * np.cos(x) - np.exp(x)\n",
    "\n",
    "def fder(x):\n",
    "    return 2 - 3 * np.sin(x) - np.exp(x)\n",
    "\n",
    "p0 = 1.5"
   ]
  },
  {
   "cell_type": "code",
   "execution_count": 45,
   "id": "a4514716-a023-43a3-bcd2-e3635e8ae187",
   "metadata": {},
   "outputs": [
    {
     "name": "stdout",
     "output_type": "stream",
     "text": [
      "La raiz aproximada es: p4 = 1.23971470 | Método de Newton\n"
     ]
    }
   ],
   "source": [
    "n3b, result = newton(f, p0, fprime=fder, tol=TOL, full_output=True)\n",
    "\n",
    "print(f'La raiz aproximada es: p{result.iterations} = {n3b:.8f} | Método de Newton')"
   ]
  },
  {
   "cell_type": "code",
   "execution_count": 46,
   "id": "8e5fa74b-1f93-4cca-aeb0-20c5c7ad18ab",
   "metadata": {},
   "outputs": [
    {
     "name": "stdout",
     "output_type": "stream",
     "text": [
      "La raiz aproximada es: p6 = 1.23971470 | Método de la Secante\n"
     ]
    }
   ],
   "source": [
    "p0 = 1\n",
    "p1 = 2\n",
    "\n",
    "s3b, result = newton(f, p0, x1=p1, tol=TOL, full_output=True)\n",
    "\n",
    "print(f'La raiz aproximada es: p{result.iterations} = {s3b:.8f} | Método de la Secante')"
   ]
  },
  {
   "cell_type": "markdown",
   "id": "f12ce7d1-600f-4d03-aa58-bdab7d649794",
   "metadata": {},
   "source": [
    "# Ejercicio 4"
   ]
  },
  {
   "cell_type": "markdown",
   "id": "7389cdcd-d842-475d-861d-756f6b34d7f5",
   "metadata": {},
   "source": [
    "**El polinomio de cuarto grado**\n",
    "\n",
    "$$f(x) = 230x^4 + 18x^3 + 9x^2 - 221x - 9$$\n",
    "\n",
    "**tiene dos ceros reales, uno en $[-1,0]$ y el otro en $[0,1]$. Intente aproximar estos ceros dentro de $10^{-6}$ con:**"
   ]
  },
  {
   "cell_type": "code",
   "execution_count": 49,
   "id": "806efe08-67cc-4c70-a834-78dec70998df",
   "metadata": {},
   "outputs": [],
   "source": [
    "TOL = 1e-06\n",
    "\n",
    "def f(x):\n",
    "    return 230 * x ** 4 + 18 * x ** 3 + 9 * x ** 2 - 221 * x - 9"
   ]
  },
  {
   "cell_type": "markdown",
   "id": "ea1d318b-9f7e-45e7-8b29-abb3f074aa19",
   "metadata": {},
   "source": [
    "**a. El método de la secante (use los extremos como las estimaciones iniciales).**\n"
   ]
  },
  {
   "cell_type": "code",
   "execution_count": 51,
   "id": "e328e47d-5f40-44cf-bb4e-6f0245222a25",
   "metadata": {},
   "outputs": [
    {
     "name": "stdout",
     "output_type": "stream",
     "text": [
      "La raiz aproximada es: -0.04065929 | Método de la Secante\n"
     ]
    }
   ],
   "source": [
    "p0 = -1\n",
    "p1 = 0\n",
    "\n",
    "s4_1 = newton(f, p0, x1=p1, tol=TOL)\n",
    "\n",
    "print(f'La raiz aproximada es: {s4_1:.8f} | Método de la Secante')"
   ]
  },
  {
   "cell_type": "code",
   "execution_count": 52,
   "id": "fe474d99-d358-438f-9229-9f60854f42d1",
   "metadata": {},
   "outputs": [
    {
     "name": "stdout",
     "output_type": "stream",
     "text": [
      "La raiz aproximada es: -0.04065929 | Método de la Secante\n"
     ]
    }
   ],
   "source": [
    "p0 = 0\n",
    "p1 = 1\n",
    "\n",
    "s4_2 = newton(f, p0, x1=p1, tol=TOL)\n",
    "\n",
    "print(f'La raiz aproximada es: {s4_2:.8f} | Método de la Secante')"
   ]
  },
  {
   "cell_type": "markdown",
   "id": "5d5b9b78-ff2f-4172-89c3-42bcee44f6a0",
   "metadata": {},
   "source": [
    "Debido a la naturaleza del algoritmo, con ambos intevalos específicos se llega a la misma respuesta y no a las distintas."
   ]
  },
  {
   "cell_type": "code",
   "execution_count": 54,
   "id": "e04b62e0-0339-4593-983f-97ef7ebe19d1",
   "metadata": {},
   "outputs": [
    {
     "name": "stdout",
     "output_type": "stream",
     "text": [
      "La raiz aproximada es: 0.96239842 | Método de la Secante\n"
     ]
    }
   ],
   "source": [
    "p0 = 0.01\n",
    "p1 = 1\n",
    "\n",
    "s4_2_2 = newton(f, p0, x1=p1, tol=TOL)\n",
    "\n",
    "print(f'La raiz aproximada es: {s4_2_2:.8f} | Método de la Secante')"
   ]
  },
  {
   "cell_type": "markdown",
   "id": "44693ab8-7809-4724-9ad3-8057f94049c4",
   "metadata": {},
   "source": [
    "Con una pequeña modificación al intervalo $p_0 = 0.01$, se consigue la otra raíz."
   ]
  },
  {
   "cell_type": "markdown",
   "id": "0d08e8d3-1a5c-4d66-8b48-8624f54c1514",
   "metadata": {},
   "source": [
    "**b. El método de Newton (use el punto medio como estimación inicial).**"
   ]
  },
  {
   "cell_type": "code",
   "execution_count": 57,
   "id": "52a5dea4-7aea-49c7-bb44-a1609499c067",
   "metadata": {},
   "outputs": [],
   "source": [
    "def fder(x):\n",
    "    return 920 * x ** 3 + 54 * x ** 2 + 18 * x - 221"
   ]
  },
  {
   "cell_type": "code",
   "execution_count": 58,
   "id": "2223d460-484d-423f-9c37-fedacb389110",
   "metadata": {},
   "outputs": [
    {
     "name": "stdout",
     "output_type": "stream",
     "text": [
      "La raiz aproximada es: -0.04065929 | Método de Newton\n"
     ]
    }
   ],
   "source": [
    "p0 = -0.5\n",
    "\n",
    "n4_1 = newton(f, p0, fprime=fder)\n",
    "\n",
    "print(f'La raiz aproximada es: {n4_1:.8f} | Método de Newton')"
   ]
  },
  {
   "cell_type": "code",
   "execution_count": 59,
   "id": "6a9ed487-f954-4702-a9d3-1c1f3ea081a2",
   "metadata": {},
   "outputs": [
    {
     "name": "stdout",
     "output_type": "stream",
     "text": [
      "La raiz aproximada es: -0.04065929 | Método de Newton\n"
     ]
    }
   ],
   "source": [
    "p0 = 0.5\n",
    "\n",
    "n4_2 = newton(f, p0, fprime=fder)\n",
    "\n",
    "print(f'La raiz aproximada es: {n4_2:.8f} | Método de Newton')"
   ]
  },
  {
   "cell_type": "markdown",
   "id": "edbf58bd-1023-482b-9e47-fbe8d32e9c94",
   "metadata": {},
   "source": [
    "> Es correcto que hay soluciones diferentes en cada intervalo. Pero, al utilizar los valores medios podemos observar que el método de Newton converge hacia la misma respuesta.\n",
    ">\n",
    "> **Esto sucede porque para ambos valores iniciales, se encuentran en una región donde la función es decreciente y continua, sus tangentes apuntan hacia el mismo valor de convergencia en el eje x. Así, independientemente del punto inicial en este intervalo, el método converge a la misma raíz.**\n",
    "\n",
    "Podemos notar lo antes mencionado en el gráfico:"
   ]
  },
  {
   "cell_type": "markdown",
   "id": "b3583d83-61c9-424b-978c-cb6d18682edb",
   "metadata": {},
   "source": [
    "Pero antes calculamos el mímino relativo"
   ]
  },
  {
   "cell_type": "code",
   "execution_count": 62,
   "id": "5efa04a1-82c6-4aef-9a9a-d4c4ef4fcacb",
   "metadata": {},
   "outputs": [
    {
     "name": "stdout",
     "output_type": "stream",
     "text": [
      "0.5925163670059391\n"
     ]
    }
   ],
   "source": [
    "min_rel = newton(fder, 1)\n",
    "print(min_rel)"
   ]
  },
  {
   "cell_type": "code",
   "execution_count": 63,
   "id": "aec2d24c-3d50-4389-a700-698709384c5b",
   "metadata": {},
   "outputs": [
    {
     "data": {
      "image/png": "[encoded data removed]",
      "text/plain": [
       "<Figure size 600x600 with 1 Axes>"
      ]
     },
     "metadata": {},
     "output_type": "display_data"
    }
   ],
   "source": [
    "x = np.linspace(-1.1, 1.2, 400)\n",
    "y = f(x)\n",
    "\n",
    "p0_1 = -0.5\n",
    "p0_2 = 0.5\n",
    "\n",
    "plt.figure(figsize=(6, 6))\n",
    "plt.plot(x, y, label=r\"$f(x) = 230x^4 + 18x^3 + 9x^2 - 221x - 9$\", color='purple')\n",
    "plt.axhline(0, color='black', linewidth=1)\n",
    "plt.axvline(0, color='black', linewidth=1) \n",
    "plt.axvline(p0_1, color='red', linestyle='--', linewidth=1, label=\"x = -0.5\")\n",
    "plt.axvline(p0_2, color='blue', linestyle='--', linewidth=1, label=\"x = 0.5\")\n",
    "plt.axvline(min_rel, color='black', linestyle=':', linewidth=2, label=\"x = 0.5925\")\n",
    "\n",
    "plt.scatter(p0_1, f(p0_1), color='red')\n",
    "plt.scatter(p0_2, f(p0_2), color='blue')\n",
    "plt.scatter(n4_1, 0, color='purple')\n",
    "\n",
    "\n",
    "plt.xlabel(\"x\")\n",
    "plt.ylabel(\"y\")\n",
    "plt.title(\"Gráfico de la función\")\n",
    "plt.legend()\n",
    "plt.grid(True)\n",
    "plt.show()"
   ]
  },
  {
   "cell_type": "markdown",
   "id": "55d1a887-efc2-45f6-b791-8b5d386fbd68",
   "metadata": {},
   "source": [
    "# Ejercicio 5"
   ]
  },
  {
   "cell_type": "markdown",
   "id": "bbe7a99c-c96d-4505-a735-65740965f7fe",
   "metadata": {},
   "source": [
    "La función $f(x) = \\tan(\\pi x) - 6$ tiene un cero en $\\frac{1}{\\pi} \\arctan(6) \\approx 0.447431543$. Sea $p_0 = 0$ y $p_1 = 0.48$. Utilice 10 iteraciones en cada uno de los siguientes métodos para aproximar esta raíz. ¿Cuál método es más eficaz y por qué?"
   ]
  },
  {
   "cell_type": "code",
   "execution_count": 66,
   "id": "7479273e-c981-46c1-8a38-c7f5574be1b9",
   "metadata": {},
   "outputs": [],
   "source": [
    "def f(x):\n",
    "    return np.tan(np.pi * x) - 6\n",
    "\n",
    "p0 = 0\n",
    "p1 = 0.48\n",
    "\n",
    "MAXITER = 10"
   ]
  },
  {
   "cell_type": "markdown",
   "id": "e0ef98e5-0704-4205-b347-2603ce2221da",
   "metadata": {},
   "source": [
    "* **Método de Bisección**"
   ]
  },
  {
   "cell_type": "code",
   "execution_count": 68,
   "id": "b08ba7a1-6d3f-4228-84b9-63dac06a4d36",
   "metadata": {},
   "outputs": [
    {
     "name": "stdout",
     "output_type": "stream",
     "text": [
      "ERROR: Failed to converge after 10 iterations.\n"
     ]
    }
   ],
   "source": [
    "from scipy.optimize import bisect\n",
    "\n",
    "try:\n",
    "    b5, result = bisect(f, p0, p1, maxiter=MAXITER, full_output=True)\n",
    "except RuntimeError as e:\n",
    "    print('ERROR:', e)"
   ]
  },
  {
   "cell_type": "markdown",
   "id": "d6c8567c-e8af-427b-b9b1-ca309937456d",
   "metadata": {},
   "source": [
    "Con el método de la bisección converge a las 38 iteraciones."
   ]
  },
  {
   "cell_type": "code",
   "execution_count": 70,
   "id": "d290c3cb-a90d-4425-8be5-ba48dcef4aac",
   "metadata": {},
   "outputs": [
    {
     "name": "stdout",
     "output_type": "stream",
     "text": [
      "La raiz aproximada es: p38 = 0.44743154 | Método de la Bisección\n"
     ]
    }
   ],
   "source": [
    "b5_1, result = bisect(f, p0, p1, maxiter=100, full_output=True)\n",
    "\n",
    "print(f'La raiz aproximada es: p{result.iterations} = {b5_1:.8f} | Método de la Bisección')"
   ]
  },
  {
   "cell_type": "markdown",
   "id": "64cfe0f1-3547-447b-88d6-27497c04e395",
   "metadata": {},
   "source": [
    "* **Método de Newton**"
   ]
  },
  {
   "cell_type": "code",
   "execution_count": 72,
   "id": "e8ab0a74-9668-4065-a828-b212d58ec7f9",
   "metadata": {},
   "outputs": [
    {
     "name": "stdout",
     "output_type": "stream",
     "text": [
      "La raiz aproximada es: p7 = 5.44743154 | Método de la Newton\n"
     ]
    }
   ],
   "source": [
    "p0 = 0.24\n",
    "\n",
    "def fder(x):\n",
    "    return np.pi * (1 / np.cos(np.pi * x))**2\n",
    "\n",
    "n5, result = newton(f, p0, fprime=fder, maxiter=MAXITER, full_output=True)\n",
    "\n",
    "print(f'La raiz aproximada es: p{result.iterations - 1} = {n5:.8f} | Método de la Newton')"
   ]
  },
  {
   "cell_type": "markdown",
   "id": "26f82ba5-3b1e-410e-8d5c-bb92e9513bc2",
   "metadata": {},
   "source": [
    "* **Método de la Secante**"
   ]
  },
  {
   "cell_type": "code",
   "execution_count": 74,
   "id": "c4011623-45fc-464c-80a9-57861718e944",
   "metadata": {},
   "outputs": [
    {
     "name": "stdout",
     "output_type": "stream",
     "text": [
      "ERROR: Failed to converge after 10 iterations, value is -3694.358600967476.\n"
     ]
    }
   ],
   "source": [
    "p0 = 0\n",
    "p1 = 0.48\n",
    "try:\n",
    "    s5, result = newton(f, p0, x1=p1, maxiter=MAXITER, full_output=True)\n",
    "except RuntimeError as e:\n",
    "    print('ERROR:', e)"
   ]
  },
  {
   "cell_type": "markdown",
   "id": "c1b6366c-f875-4314-b2c5-81a8feed753c",
   "metadata": {},
   "source": [
    "Por lo tanto, el método más eficaz es el de **Newton**, debido a las herramientas matemáticas que usa para determinar la aproximación."
   ]
  },
  {
   "cell_type": "markdown",
   "id": "b509e202-3275-424a-96b8-35a5bad10db7",
   "metadata": {},
   "source": [
    "# Ejercicio 6"
   ]
  },
  {
   "cell_type": "markdown",
   "id": "48603d5e-98ed-437c-b77c-576052414f36",
   "metadata": {},
   "source": [
    "**La función descrita por $𝑓(𝑥) = ln(𝑥^2 + 1) − e^{0.4𝑥} \\cos(\\pi𝑥)$ tiene un número infinito de ceros.**"
   ]
  },
  {
   "cell_type": "code",
   "execution_count": 78,
   "id": "0944efe4-c8f5-4f63-94f6-ecc3ff778f35",
   "metadata": {},
   "outputs": [],
   "source": [
    "def f(x):\n",
    "    return np.log(x ** 2 + 1) - np.exp(0.4  * x) * np.cos(np.pi * x)\n",
    "\n",
    "def fder(x):\n",
    "    return ((2 * x) / x ** 2 + 1) - 0.4 * np.exp(0.4 * x) * np.cos(np.pi * x) + np.pi * np.exp(0.4 * x) * np.sin(np.pi * x)\n",
    "\n",
    "TOL = 1e-06"
   ]
  },
  {
   "cell_type": "markdown",
   "id": "e2589759-3c49-4d29-8d57-35414aca06f5",
   "metadata": {},
   "source": [
    "**a. Determine, dentro de 10−6, el único cero negativo.**"
   ]
  },
  {
   "cell_type": "code",
   "execution_count": 80,
   "id": "c092bdd0-8463-4a5e-8753-5c621d16448d",
   "metadata": {},
   "outputs": [
    {
     "name": "stdout",
     "output_type": "stream",
     "text": [
      "La raiz aproximada es: p14 = -0.43414348 | Método de la Newton\n"
     ]
    }
   ],
   "source": [
    "p0 = -0.5\n",
    "\n",
    "n6a, r = newton(f, p0, fprime=fder, tol=TOL, full_output=True)\n",
    "\n",
    "print(f'La raiz aproximada es: p{r.iterations - 1} = {n6a:.8f} | Método de la Newton')"
   ]
  },
  {
   "cell_type": "markdown",
   "id": "86f76194-3c39-4351-a0f8-1ef59408dcb2",
   "metadata": {},
   "source": [
    "**b. Determine, dentro de 10−6, los cuatro ceros positivos más pequeños.**"
   ]
  },
  {
   "cell_type": "code",
   "execution_count": 82,
   "id": "2dfb9b1a-1414-4963-b2d1-9116765fc8fc",
   "metadata": {},
   "outputs": [
    {
     "name": "stdout",
     "output_type": "stream",
     "text": [
      "Método de Newton - Raices\n",
      "La raiz aproximada es: p17 = 0.45065733\n",
      "La raiz aproximada es: p18 = 1.74473790\n",
      "La raiz aproximada es: p9 = 2.23831990\n",
      "La raiz aproximada es: p7 = 3.70904123\n"
     ]
    }
   ],
   "source": [
    "ceros = []\n",
    "p0 = 0.5\n",
    "for i in range(4):\n",
    "    ans, r = newton(f, p0, fprime=fder, tol=TOL, full_output=True)\n",
    "    ceros.append((ans, r.iterations))\n",
    "    p0 += 1\n",
    "\n",
    "print('Método de Newton - Raices')\n",
    "for root, iter in ceros:\n",
    "    print(f'La raiz aproximada es: p{iter} = {root:.8f}')"
   ]
  },
  {
   "cell_type": "markdown",
   "id": "fab141ca-bf0b-4c08-859b-8128f838f1e2",
   "metadata": {},
   "source": [
    "**c. Determine una aproximación inicial razonable para encontrar el enésimo cero positivo más pequeño de $f$.** "
   ]
  },
  {
   "cell_type": "markdown",
   "id": "c9134779-2dbf-490e-b97e-3f86a33344c2",
   "metadata": {},
   "source": [
    "Primero, dibujamos una gráfica aproximada de $f$."
   ]
  },
  {
   "cell_type": "code",
   "execution_count": 85,
   "id": "484427f1-9cbf-4ca6-9c97-9edc8b9f2fe5",
   "metadata": {},
   "outputs": [
    {
     "data": {
      "image/png": "[encoded data removed]",
      "text/plain": [
       "<Figure size 600x500 with 1 Axes>"
      ]
     },
     "metadata": {},
     "output_type": "display_data"
    }
   ],
   "source": [
    "x = np.linspace(-2, 20, 400)\n",
    "y = f(x)\n",
    "\n",
    "plt.figure(figsize=(6, 5))\n",
    "plt.plot(x, y, label='$f(x) = ln(𝑥^2 + 1) − e^{0.4𝑥} cos(\\\\pi𝑥)$', color='lightgreen')\n",
    "plt.axhline(0, color='black', lw=0.5)  \n",
    "plt.axvline(0, color='black', lw=0.5)  \n",
    "plt.xlim(-1,20)\n",
    "plt.ylim(-45, 45)\n",
    "plt.title('Gráfico de la Función')\n",
    "plt.xlabel('x')\n",
    "plt.ylabel('y')\n",
    "plt.legend()\n",
    "plt.grid()\n",
    "plt.show()"
   ]
  },
  {
   "cell_type": "markdown",
   "id": "ba1a3fb9-20dd-4739-a025-fac51a17d7eb",
   "metadata": {},
   "source": [
    "Con $aprox = 0.5$ se logran obtener todas las raices que aparecen hasta un número razonable de x, tal que $x = 30$"
   ]
  },
  {
   "cell_type": "code",
   "execution_count": 87,
   "id": "458df9ce-a1a6-480c-9573-17da44bd2bff",
   "metadata": {
    "scrolled": true
   },
   "outputs": [
    {
     "name": "stdout",
     "output_type": "stream",
     "text": [
      "Raiz aproximada: p = 0.45065733 con n = 1\n",
      "Raiz aproximada: p = 1.74473790 con n = 2\n",
      "Raiz aproximada: p = 2.23831990 con n = 3\n",
      "Raiz aproximada: p = 3.70904123 con n = 4\n",
      "Raiz aproximada: p = 4.32264902 con n = 5\n",
      "Raiz aproximada: p = 5.61993535 con n = 6\n",
      "Raiz aproximada: p = 6.40693362 con n = 7\n",
      "Raiz aproximada: p = 7.56321052 con n = 8\n",
      "Raiz aproximada: p = 8.45348098 con n = 9\n",
      "Raiz aproximada: p = 9.53183353 con n = 10\n",
      "Raiz aproximada: p = 10.47730589 con n = 11\n",
      "Raiz aproximada: p = 11.51557072 con n = 12\n",
      "Raiz aproximada: p = 12.48910641 con n = 13\n",
      "Raiz aproximada: p = 13.50747141 con n = 14\n",
      "Raiz aproximada: p = 14.49483105 con n = 15\n",
      "Raiz aproximada: p = 15.50353913 con n = 16\n",
      "Raiz aproximada: p = 16.49756834 con n = 17\n",
      "Raiz aproximada: p = 17.50166147 con n = 18\n",
      "Raiz aproximada: p = 18.49886353 con n = 19\n",
      "Raiz aproximada: p = 19.50077493 con n = 20\n",
      "Raiz aproximada: p = 20.49947156 con n = 21\n",
      "Raiz aproximada: p = 21.50035967 con n = 22\n",
      "Raiz aproximada: p = 22.49975529 con n = 23\n",
      "Raiz aproximada: p = 23.50016630 con n = 24\n",
      "Raiz aproximada: p = 24.49988705 con n = 25\n",
      "Raiz aproximada: p = 25.50007665 con n = 26\n",
      "Raiz aproximada: p = 26.49994801 con n = 27\n",
      "Raiz aproximada: p = 27.50003525 con n = 28\n",
      "Raiz aproximada: p = 28.49997612 con n = 29\n",
      "Raiz aproximada: p = 29.50001617 con n = 30\n"
     ]
    }
   ],
   "source": [
    "roots = []\n",
    "for n in range(1, 31):\n",
    "    p0 = n - 0.5\n",
    "    ans = newton(f, p0, fprime=fder, tol=TOL)\n",
    "    roots.append((n, ans))\n",
    "\n",
    "for n, root in roots:\n",
    "    print(f'Raiz aproximada: p = {root:.8f} con n = {n}')"
   ]
  },
  {
   "cell_type": "markdown",
   "id": "8d0fa9f2-162a-481c-b5d7-73acae7f57a2",
   "metadata": {},
   "source": [
    "Como muesta, graficamos para las primeras 20 raices a partir de $x = 0$."
   ]
  },
  {
   "cell_type": "code",
   "execution_count": 89,
   "id": "fec6dd9a-ee68-474d-bcf3-f16ea071ccf8",
   "metadata": {},
   "outputs": [
    {
     "data": {
      "image/png": "[encoded data removed]",
      "text/plain": [
       "<Figure size 600x500 with 1 Axes>"
      ]
     },
     "metadata": {},
     "output_type": "display_data"
    }
   ],
   "source": [
    "x = np.linspace(0, 10, 400)\n",
    "y = f(x)\n",
    "raices = [root for _, root in roots]\n",
    "\n",
    "plt.figure(figsize=(6, 5))\n",
    "plt.plot(x, y, label='$f(x) = ln(𝑥^2 + 1) − e^{0.4𝑥} cos(\\\\pi𝑥)$', color='lightgreen')\n",
    "plt.plot(raices, [0] * len(raices), 'o', color='red', label='Raíces')\n",
    "plt.axhline(0, color='black', lw=0.5)  \n",
    "plt.axvline(0, color='black', lw=0.5)  \n",
    "plt.title('Raices de la Función')\n",
    "plt.xlabel('x')\n",
    "plt.ylabel('y')\n",
    "plt.xlim(0,10)\n",
    "plt.ylim(-50, 50)\n",
    "plt.legend()\n",
    "plt.grid()\n",
    "plt.show()"
   ]
  },
  {
   "cell_type": "code",
   "execution_count": 90,
   "id": "7a2b30cc-4fda-4740-98a9-74ba86775f3c",
   "metadata": {},
   "outputs": [
    {
     "data": {
      "image/png": "[encoded data removed]",
      "text/plain": [
       "<Figure size 600x500 with 1 Axes>"
      ]
     },
     "metadata": {},
     "output_type": "display_data"
    }
   ],
   "source": [
    "x = np.linspace(10, 20, 400)\n",
    "y = f(x)\n",
    "raices = [root for _, root in roots]\n",
    "\n",
    "plt.figure(figsize=(6, 5))\n",
    "plt.plot(x, y, label='$f(x) = ln(𝑥^2 + 1) − e^{0.4𝑥} cos(\\\\pi𝑥)$', color='lightgreen')\n",
    "plt.plot(raices, [0] * len(raices), 'o', color='red', label='Raíces')  \n",
    "plt.axhline(0, color='black', lw=0.5)  \n",
    "plt.axvline(0, color='black', lw=0.5)  \n",
    "plt.title('Raices de la Función')\n",
    "plt.xlabel('x')\n",
    "plt.ylabel('y')\n",
    "plt.xlim(10,20)\n",
    "plt.ylim(-2000, 2000)\n",
    "plt.legend()\n",
    "plt.grid()\n",
    "plt.show()"
   ]
  },
  {
   "cell_type": "markdown",
   "id": "fbc5570e-29a2-44e8-93ef-90e91189ce48",
   "metadata": {},
   "source": [
    "**d. Use la parte c) para determinar, dentro de 10−6, el vigesimoquinto cero positivo más pequeño de 𝑓.**"
   ]
  },
  {
   "cell_type": "code",
   "execution_count": 92,
   "id": "abd68514-ab64-43ff-b6db-022681d89ac1",
   "metadata": {},
   "outputs": [
    {
     "name": "stdout",
     "output_type": "stream",
     "text": [
      "Raiz aproximada: p = 24.49988705 con n = 25\n"
     ]
    }
   ],
   "source": [
    "root25 = roots[24]\n",
    "print(f'Raiz aproximada: p = {root25[1]:.8f} con n = {root25[0]}')"
   ]
  },
  {
   "cell_type": "markdown",
   "id": "a35d69cc-1c20-40b9-9df4-704f564d5176",
   "metadata": {},
   "source": [
    "# Ejercicio 7"
   ]
  },
  {
   "cell_type": "markdown",
   "id": "fc4b2921-a3ea-4ea9-b06f-bd0aef389ff7",
   "metadata": {},
   "source": [
    "**La función $f(x) = 𝑥^{1/3}$ tiene raíz en $x = 0$. Usando el punto de inicio de $x = 1$ y $p_0 = 5$, $p_1 = 0.5$ para el \n",
    "método de secante, compare los resultados de los métodos de la secante y de Newton.**"
   ]
  },
  {
   "cell_type": "markdown",
   "id": "aa810aaf-f701-4ef0-b917-2c0a45325ac5",
   "metadata": {},
   "source": [
    "* **Método de Newton**"
   ]
  },
  {
   "cell_type": "code",
   "execution_count": 96,
   "id": "ff5fd92e-8d6f-4686-89b2-591c89528ca9",
   "metadata": {},
   "outputs": [],
   "source": [
    "def f(x):\n",
    "    return np.cbrt(x)\n",
    "\n",
    "def fder(x):\n",
    "    return (1 / 3) * (x ** (-2 / 3)) if x != 0 else float('inf')"
   ]
  },
  {
   "cell_type": "markdown",
   "id": "087c4d43-79c8-454c-90b7-4f9831085c68",
   "metadata": {},
   "source": [
    "Usando el método de scipy, nos retorna un error, debido a que el algoritmo no llegó a una respuesta y, de hecho, el valor final es NaN."
   ]
  },
  {
   "cell_type": "code",
   "execution_count": 98,
   "id": "07aa14e8-0fb7-456f-8f47-690e351c2d9d",
   "metadata": {},
   "outputs": [
    {
     "name": "stdout",
     "output_type": "stream",
     "text": [
      "ERROR: Failed to converge after 50 iterations, value is nan.\n"
     ]
    },
    {
     "name": "stderr",
     "output_type": "stream",
     "text": [
      "C:\\Users\\Acer123\\AppData\\Local\\Temp\\ipykernel_9536\\42710916.py:5: RuntimeWarning: invalid value encountered in scalar power\n",
      "  return (1 / 3) * (x ** (-2 / 3)) if x != 0 else float('inf')\n"
     ]
    }
   ],
   "source": [
    "p0 = 1\n",
    "try:\n",
    "    n7 = newton(f, p0, fprime=fder)\n",
    "except RuntimeError as r:\n",
    "    print('ERROR:', r)"
   ]
  },
  {
   "cell_type": "markdown",
   "id": "c024e5f5-09df-4cdc-a279-a2d5c58e75a6",
   "metadata": {},
   "source": [
    "Veámoslo con más detalle:"
   ]
  },
  {
   "cell_type": "code",
   "execution_count": 100,
   "id": "9d8f1b66-7cfe-4f03-8338-3216ab285184",
   "metadata": {},
   "outputs": [
    {
     "name": "stdout",
     "output_type": "stream",
     "text": [
      "f(1.0) = 1.0\n",
      "f(-2.0) = -1.259921049894873\n",
      "f(nan) = nan\n",
      "f(nan) = nan\n",
      "f(nan) = nan\n",
      "ERROR: Failed to converge after 5 iterations, value is nan.\n"
     ]
    },
    {
     "name": "stderr",
     "output_type": "stream",
     "text": [
      "C:\\Users\\Acer123\\AppData\\Local\\Temp\\ipykernel_9536\\363878759.py:10: RuntimeWarning: invalid value encountered in scalar power\n",
      "  return (1 / 3) * (x ** (-2 / 3)) if x != 0 else float('inf')\n"
     ]
    }
   ],
   "source": [
    "def f(x: float, points: list[float] = [], show: bool = False):\n",
    "    y =  np.cbrt(x)\n",
    "    points.append((x, y))\n",
    "    if show:\n",
    "        print(f\"f({x}) = {y}\")\n",
    "    return y\n",
    "\n",
    "\n",
    "def df(x, *args):\n",
    "    return (1 / 3) * (x ** (-2 / 3)) if x != 0 else float('inf')\n",
    "\n",
    "x0 = 1\n",
    "points = []\n",
    "try:\n",
    "    x_r = newton(f, x0, fprime=df, args=(points, True), maxiter=5)\n",
    "except RuntimeError as e:\n",
    "    print('ERROR:', e)"
   ]
  },
  {
   "cell_type": "markdown",
   "id": "c7487557-7f63-474c-a7b1-02960d6bc4fb",
   "metadata": {},
   "source": [
    "Sesde la tercera iteración, el valor que se obtiene como $x_n$ es un NaN. Según ChatGPT:\n",
    "\n",
    "> El problema del NaN ocurre en este caso porque la función y/o su derivada genera valores indefinidos o no representables en ciertas condiciones.\n",
    "\n",
    "> Para $x<0$, el cálculo de $x^{1/3}$ utilizando $x^{frac}$ (potencias fraccionarias) con ciertas implementaciones puede generar NaN debido a cómo se maneja la raíz cúbica de números negativos en floating-point.\n",
    "\n",
    "> Por ejemplo, en Python, escribir directamente x ** (1/3) puede dar un error o un NaN para  x<0. Esto ocurre porque, por defecto, las operaciones de potencia no consideran correctamente el manejo de números negativos con exponentes fraccionarios"
   ]
  },
  {
   "cell_type": "markdown",
   "id": "aae4ae8a-297c-4b6c-b192-04b589274abf",
   "metadata": {},
   "source": [
    "Pero aún sin eso, de todas maneras el algoritmo no llegaría a una respuesta. Para este caso, el método diverge, y cada vez se aleja más de la respuesta. Se puede observar en las siguentes imagen:"
   ]
  },
  {
   "cell_type": "markdown",
   "id": "117db74f-f097-4b54-8de6-e3d335c6c4a9",
   "metadata": {},
   "source": [
    "![Ejercicio 7: Método de Newton - Divergencia](diverging.png)"
   ]
  },
  {
   "cell_type": "code",
   "execution_count": 104,
   "id": "0430a4bf-026d-479b-b43a-fa1371daac6b",
   "metadata": {},
   "outputs": [
    {
     "data": {
      "image/png": "[encoded data removed]",
      "text/plain": [
       "<Figure size 500x500 with 1 Axes>"
      ]
     },
     "metadata": {},
     "output_type": "display_data"
    }
   ],
   "source": [
    "possible = [2 ** x for x in range(9)]\n",
    "\n",
    "for i in range(9):\n",
    "    if i%2!=0:\n",
    "        possible[i] *= -1\n",
    "\n",
    "# Plot the x points\n",
    "plt.figure(figsize=(5, 5))\n",
    "plt.plot(possible, \"o-\", label=\"$x_i$\")\n",
    "plt.grid(color=\"gray\", linestyle=\"--\", linewidth=0.5)\n",
    "plt.title(\"Divergencia: $x$ vs iteraciones\")\n",
    "plt.xlabel(\"Iteraciones\")\n",
    "plt.ylabel(\"$x_i$\")\n",
    "plt.legend()\n",
    "plt.show()"
   ]
  },
  {
   "cell_type": "markdown",
   "id": "6db3fd18-3f52-4a1e-947c-ee0f4ed27e60",
   "metadata": {},
   "source": [
    "* **Método de la Secante**"
   ]
  },
  {
   "cell_type": "markdown",
   "id": "f3cec46d-013e-4c09-af54-931fbfd313bf",
   "metadata": {},
   "source": [
    "No encuentra la respuesta dentro de las iteraciones especificadas:"
   ]
  },
  {
   "cell_type": "code",
   "execution_count": 107,
   "id": "45540f45-6901-4b18-9b72-86a726db2f6e",
   "metadata": {},
   "outputs": [
    {
     "name": "stdout",
     "output_type": "stream",
     "text": [
      "ERROR: Failed to converge after 50 iterations, value is 0.15125956067017968.\n"
     ]
    }
   ],
   "source": [
    "p0 = 5\n",
    "p1 = 0.5\n",
    "\n",
    "try:\n",
    "    s7 = newton(f, p0, x1=p1)\n",
    "except RuntimeError as e:\n",
    "    print('ERROR:', e)"
   ]
  },
  {
   "cell_type": "markdown",
   "id": "e16c98ac",
   "metadata": {},
   "source": [
    "**GitHub:** [Tarea5 - @mateobtw18](https://github.com/mateobtw18/Tarea_5)"
   ]
  }
 ],
 "metadata": {
  "kernelspec": {
   "display_name": "Python 3 (ipykernel)",
   "language": "python",
   "name": "python3"
  },
  "language_info": {
   "codemirror_mode": {
    "name": "ipython",
    "version": 3
   },
   "file_extension": ".py",
   "mimetype": "text/x-python",
   "name": "python",
   "nbconvert_exporter": "python",
   "pygments_lexer": "ipython3",
   "version": "3.12.4"
  }
 },
 "nbformat": 4,
 "nbformat_minor": 5
}
